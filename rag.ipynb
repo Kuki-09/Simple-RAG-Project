{
 "cells": [
  {
   "cell_type": "code",
   "execution_count": 2,
   "metadata": {},
   "outputs": [
    {
     "data": {
      "text/plain": [
       "[Document(metadata={'producer': 'Adobe PDF Library 15.0', 'creator': 'PyPDF', 'creationdate': '2021-09-04T13:45:22+05:30', 'authoritativedomain[1]': 'sciencedirect.com', 'authoritativedomain[2]': 'elsevier.com', 'crossmarkdomains[1]': 'sciencedirect.com', 'crossmarkdomains[2]': 'elsevier.com', 'crossmarkdomainexclusive': '2010-04-23', 'crossmarkmajorversiondate': '2010-04-23', 'elsevierwebpdfspecifications': '7.0', 'moddate': '2021-09-07T18:54:41+05:30', 'doi': '10.1016/j.procs.2021.07.062', 'robots': 'noindex', 'source': 'Breast_cancer_prediction_research_paper.pdf', 'total_pages': 6, 'page': 0, 'page_label': '487'}, page_content='ScienceDirect\\nAvailable online at www.sciencedirect.com\\nProcedia Computer Science 191 (2021) 487–492\\n1877-0509 © 2021 The Authors. Published by Elsevier B.V .\\nThis is an open access article under the CC BY-NC-ND license ( https://creativecommons.org/licenses/by-nc-nd/4.0 )\\nPeer-review under responsibility of the Conference Program Chair.\\n10.1016/j.procs.2021.07.062\\n10.1016/j.procs.2021.07.062 1877-0509\\n© 2021 The Authors. Published by Elsevier B.V .\\nThis is an open access article under the CC BY-NC-ND license (https://creativecommons.org/licenses/by-nc-nd/4.0)\\nPeer-review under responsibility of the Conference Program Chair. \\n \\nAvailable online at www.sciencedirect.com \\nScienceDirect \\nProcedia Computer Science 00 (2021) 000–000  \\nwww.elsevier.com/locate/procedia \\n \\n1877-0509 © 2021 The Authors. Published by Elsevier B.V. \\nThis is an open access article under the CC BY-NC-ND license (http://creativecommons.org/licenses/by-nc-nd/4.0/) \\nPeer-review under responsibility of the Conference Program Chairs.  \\nInternational Workshop on Edge IA-IoT for Smart Agriculture (SA2IOT)  \\nAugust 9-12, 2021, Leuven, Belgium \\nMachine Learning Algorithms For Breast Cancer Prediction And \\nDiagnosis \\nMohammed Amine Naji a,*, Sanaa El Filalib \\nKawtar Aarikac, EL Habib Benlahmard,  Rachida Ait Abdelouhahide, Olivier Debauchef \\na,b,c,d,eFaculty of Science Ben M’sik, Hassan 2 University, Casablanca, Morocco \\nf Faculty of Engineering, University of Mons, Mons, Belgium \\n  \\nAbstract \\nEach year number of deaths is increasing extremely because of breast cancer.  It is the most frequent type of all \\ncancers and the major cause of death in women worldwide. Any development for prediction and diagnosis of cancer \\ndisease is capital important for a healthy life . Consequently, high accuracy in cancer prediction is important to \\nupdate the treatment aspect and the survivability standard of patients. Machine learning techniques can bring a large \\ncontribute on the process of prediction and early diagnosis of breast can cer, became a research hotspot and has been \\nproved as a strong technique . In this study, we applied five machine learning algorithms: Support Vector Machine \\n(SVM), Random Forest, Logistic Regression, Decision tree (C4.5) and K -Nearest Neighbours (KNN) on the Breast \\nCancer Wisconsin Diagnostic dataset , after obtaining the results, a performance evaluation and comparison is \\ncarried out between these different classif iers. The main objective of this research paper is to predict and diagnosis \\nbreast cancer, usi ng machine-learning algorithms, and find out the most effective whit respect to  confusion matrix, \\naccuracy and precision. It is observed that Support vector Machine outperformed all other classifiers and achieved \\nthe highest accuracy (97.2%) .All the work i s done in the Anaconda environment based on python programming \\nlanguage and Scikit-learn library. \\n \\n© 2021 The Authors. Published by Elsevier B.V. \\nThis is an open access article under the CC BY -NC-ND license (http://creativecommons.org/licenses/by-nc-nd/4.0/) \\nPeer-review under responsibility of the Conference Program Chairs. \\nKeywords: Breast Cancer; Prediction; Diagnostic ; SVM; Random Forest; Logistic regression ; C4.5; k-NN; Accuracy; Precision; \\n \\n \\n* Corresponding author. Tel.: Tel.: +212-634-32-83-78; \\nE-mail address: aminenaji55@gmail.com \\n \\nAvailable online at www.sciencedirect.com \\nScienceDirect \\nProcedia Computer Science 00 (2021) 000–000  \\nwww.elsevier.com/locate/procedia \\n \\n1877-0509 © 2021 The Authors. Published by Elsevier B.V. \\nThis is an open access article under the CC BY-NC-ND license (http://creativecommons.org/licenses/by-nc-nd/4.0/) \\nPeer-review under responsibility of the Conference Program Chairs.  \\nInternational Workshop on Edge IA-IoT for Smart Agriculture (SA2IOT)  \\nAugust 9-12, 2021, Leuven, Belgium \\nMachine Learning Algorithms For Breast Cancer Prediction And \\nDiagnosis \\nMohammed Amine Naji a,*, Sanaa El Filalib \\nKawtar Aarikac, EL Habib Benlahmard,  Rachida Ait Abdelouhahide, Olivier Debauchef \\na,b,c,d,eFaculty of Science Ben M’sik, Hassan 2 University, Casablanca, Morocco \\nf Faculty of Engineering, University of Mons, Mons, Belgium \\n  \\nAbstract \\nEach year number of deaths is increasing extremely because of breast cancer.  It is the most frequent type of all \\ncancers and the major cause of death in women worldwide. Any development for prediction and diagnosis of cancer \\ndisease is capital important for a healthy life . Consequently, high accuracy in cancer prediction is important to \\nupdate the treatment aspect and the survivability standard of patients. Machine learning techniques can bring a large \\ncontribute on the process of prediction and early diagnosis of breast can cer, became a research hotspot and has been \\nproved as a strong technique . In this study, we applied five machine learning algorithms: Support Vector Machine \\n(SVM), Random Forest, Logistic Regression, Decision tree (C4.5) and K -Nearest Neighbours (KNN) on the Breast \\nCancer Wisconsin Diagnostic dataset , after obtaining the results, a performance evaluation and comparison is \\ncarried out between these different classif iers. The main objective of this research paper is to predict and diagnosis \\nbreast cancer, usi ng machine-learning algorithms, and find out the most effective whit respect to  confusion matrix, \\naccuracy and precision. It is observed that Support vector Machine outperformed all other classifiers and achieved \\nthe highest accuracy (97.2%) .All the work i s done in the Anaconda environment based on python programming \\nlanguage and Scikit-learn library. \\n \\n© 2021 The Authors. Published by Elsevier B.V. \\nThis is an open access article under the CC BY -NC-ND license (http://creativecommons.org/licenses/by-nc-nd/4.0/) \\nPeer-review under responsibility of the Conference Program Chairs. \\nKeywords: Breast Cancer; Prediction; Diagnostic ; SVM; Random Forest; Logistic regression ; C4.5; k-NN; Accuracy; Precision; \\n \\n \\n* Corresponding author. Tel.: Tel.: +212-634-32-83-78; \\nE-mail address: aminenaji55@gmail.com'),\n",
       " Document(metadata={'producer': 'Adobe PDF Library 15.0', 'creator': 'PyPDF', 'creationdate': '2021-09-04T13:45:22+05:30', 'authoritativedomain[1]': 'sciencedirect.com', 'authoritativedomain[2]': 'elsevier.com', 'crossmarkdomains[1]': 'sciencedirect.com', 'crossmarkdomains[2]': 'elsevier.com', 'crossmarkdomainexclusive': '2010-04-23', 'crossmarkmajorversiondate': '2010-04-23', 'elsevierwebpdfspecifications': '7.0', 'moddate': '2021-09-07T18:54:41+05:30', 'doi': '10.1016/j.procs.2021.07.062', 'robots': 'noindex', 'source': 'Breast_cancer_prediction_research_paper.pdf', 'total_pages': 6, 'page': 1, 'page_label': '488'}, page_content=\"488 Mohammed Amine Naji  et al. / Procedia Computer Science 191 (2021) 487–492\\n2 Naji Mohammed Amine/ Procedia Computer Science 00 (2021) 000–000 \\n1. Introduction \\nBreast cancer has now overtaken lung cancer as the most commonly diagnosed cancer in women worldwide, \\naccording to statistics released by the International Agency for Research on Cancer (IARC) in December 2020. In \\nthe past two decades, the ove rall number of people diagnosed with cancer nearly doubled, from an estimated 10 \\nmillion in 2000 to 19.3 million in 2020  [1]. Today, one in 5 people worldwide will develop cancer  during their \\nlifetime. Projections suggest that the number of people being diagnosed with cancer will increase still further in the \\ncoming years, and will be nearly 50% higher in 2040 than in 2020.  The number of cancer deaths has also increased, \\nfrom 6.2 million in 2000 to 10 million in 2020. More than one in six deaths is due to cancer. This reinforces the need \\nto invest in both the fight against cancer and cancer prevention . The successful introduction of information and \\ncommunication technologies (ICT) in medical practice is an important stake in the renovation of the health system \\nand more precisely in cancer care. Actually, Big data has revolutionized the size of data and also creating value from \\nit Big data has made a big change in BI by analyzing large amount of unstructured, heterogeneous, non-standard and \\nincomplete healthcare data. It does not only forecast but also helps in decision making and is increasingly noticed as \\nbreakthrough in ongoing advancement with the goal is to improve the quality of  patient care and reduces the \\nhealthcare cost. Data mining algorithms applied in healthcare industry play a significant role due to their high \\nperformance in predicting, diagnosis of the diseases, reducing costs of medicine, making real time decision to sa ve \\npeople's lives. The Most common Data mining modeling goals are classification and prediction which uses several \\nalgorithms for the prediction of breast cancer. This paper mainly gives a comparison between the performance of \\nfive classifiers: Support Vector Machine (SVM)), Random Forest, Logistic Regression, Decision tree (C4.5) and K -\\nNearest Neighbors (KNN Network) which according to research community  are among the most influential data \\nmining algorithms and among the top 10 data mining algorithms  [2]. Our objective is to predict and diagnosis breast \\ncancer, using machine -learning algorithms, and find out the most effective based on the performance of each \\nclassifier in terms o f confusion matrix, accuracy, precision and sensitivity.  The rest of this paper is organized as \\nfollows .section 2 introduces methods and results of previous research on breast cancer diagnosis. Section 3 \\ndescribes the proposed methodology for our work. Section 4 presents and explains in detail  the experiments results. \\nSection 5 concludes the paper. \\n2. Related Works \\n   A large number of machine learning algorithms are available for prediction and diagnosis of breast cancer. Some \\nof the machine learning algorithm are Support Vector Machine (SVM) , Random Forest, Logistic Regression , \\nDecision tree (C4.5) and K -Nearest Neighbors (KNN  Network) etc. A lot of researcher  have realized research in \\nbreast cancer by using several dataset such as using SEER dataset, Mammogram images as dataset, Wisconsin \\nDataset and also datase t from various hospitals. By exploiting these dataset authors extract and select various \\nfeatures and complete their research. These are some significant research. The author Sudarshan Nayak [3], \\ndemonstrates the use of various supervised machine learning algorithms in classification of breast cancer from using \\n3D images and find out that SVM  is the best based on his overall performance. On the other side, we find that B.M. \\nGayathri [4], work on comparative study of Relevance vector machine which provides Low computational cost \\nwhile comparing with other machine learning techniques which are used for breast cancer detection, and explain \\nhow RVM is better than other machi ne learning algorithms for diagnosing breast cancer even the variables are \\nreduced and achieved 97% accuracy . Hiba Asri [5], demonstrated that Support vector Machine (SVM) proves its \\nefficiency in Breast Cancer prediction and diagnosis and achieves the bes t performance in terms of precision and \\nlow error rate with an accuracy of 97.13% . in recent works, we find that Y ouness khoudfi and Mohamed Bahaj [6], \\nsimilarly proposed a comparison between Machine learning algorithms and they found the SVM is the best classifier \\nwith an accuracy of 97.9% compared with K-NN, RF and NB, they are based on Multilayer perception with 5 layers \\nand 10 times cross validation u sing MLP.  The author  Latchoumiet TP [7] Found a classification value of 98.4% \\nproposing an optimization weighting of the particle swarm (WPSO) based on the SSVM for the  classification. \\nAhmed Hamza Osman [8] proposed a solution for the diagnosis of Wisconsin breast cancer (WBCD) with a \\nprediction of 99.10% found by the SVM algorithm by combining a clustering algorithm with an efficient \\nprobabilistic vector support machine . Our research is focused on assessing such machine learning algorithms and\"),\n",
       " Document(metadata={'producer': 'Adobe PDF Library 15.0', 'creator': 'PyPDF', 'creationdate': '2021-09-04T13:45:22+05:30', 'authoritativedomain[1]': 'sciencedirect.com', 'authoritativedomain[2]': 'elsevier.com', 'crossmarkdomains[1]': 'sciencedirect.com', 'crossmarkdomains[2]': 'elsevier.com', 'crossmarkdomainexclusive': '2010-04-23', 'crossmarkmajorversiondate': '2010-04-23', 'elsevierwebpdfspecifications': '7.0', 'moddate': '2021-09-07T18:54:41+05:30', 'doi': '10.1016/j.procs.2021.07.062', 'robots': 'noindex', 'source': 'Breast_cancer_prediction_research_paper.pdf', 'total_pages': 6, 'page': 2, 'page_label': '489'}, page_content=\"Mohammed Amine Naji  et al. / Procedia Computer Science 191 (2021) 487–492 489 Naji Mohammed Amine/ Procedia Computer Science 00 (2021) 000–000  3 \\napproaches in order to conclude the best methodology for breast cancer prediction and diagnosis. \\n3. Methodology \\nThe mai n objective of our experiment is to identify the effective and predictive algorithm for the detection of \\nbreast cancer, therefore we applied machine learning classifiers Support Vector Machine (SVM), Random Forests, \\nLogistic Regression,  Decision tree (C4.5), K-Nearest Neighbors (KNN)  on Breast Cancer Wisconsin Diagnostic \\ndataset and evaluate the results obtained to define which model provides a higher accuracy. \\nThe proposed architecture is detailed in figure 1. \\n \\nFig. 1. Process Flow Diagram. \\nOur methodology begins with data acquisition followed by pre -processing, which  contains four steps viz: data \\ncleaning, select attribu tes, set target Role and features extraction. The prepared data is used to build machine \\nlearning algorithms that can predict the breast cancer for a new set of measurements. To evaluate the algorithms \\nperformances, we show the model new data for which we have labels. This is usually done by splitting the labeled \\ndata we have collected into two parts whit Train_test_split method. 75% of the data is used to build our machine \\nlearning model, and is called the training data or training set. 25% of the data will be used to access how well the \\nmodel works and is called test data, test set. After testing the models we compare the obtained results to select the \\nalgorithm that provides the high accuracy and identify the most predictive algorithm  for the detection of breast \\ncancer. \\n3.1. Machine Learning Algorithms \\nIn our project, the predictive analysis of the machine learning algorithms is achieved. The machine learning \\nalgorithms applied in our project are: \\n• Support Vector Machine (SVM) is a classifier which divides the datasets into classes to find a maximum \\nmarginal hyper plane (MMH) via the nearest data points [9]. \\n• Random forests or random decision forests are an ensemble method for classifi cation, regression and other \\ntasks, that operate by constructing a multitude of decision trees at training time and outputting the class that is \\nthe mode of the classes (classification) or mean prediction (regression) of the individual trees. Random \\ndecision forests correct for decision trees' habit of over fitting to their training set \\n• k-Nearest Neighbors (K -NN) is a supervised classification algorithm. It takes a bunch of labeled points and \\nuses them to learn how to label other points. To label a new poin t, it looks at the labeled points closest to that \\nnew point, which is its nearest neighbors, and has those neighbors vote [10].\"),\n",
       " Document(metadata={'producer': 'Adobe PDF Library 15.0', 'creator': 'PyPDF', 'creationdate': '2021-09-04T13:45:22+05:30', 'authoritativedomain[1]': 'sciencedirect.com', 'authoritativedomain[2]': 'elsevier.com', 'crossmarkdomains[1]': 'sciencedirect.com', 'crossmarkdomains[2]': 'elsevier.com', 'crossmarkdomainexclusive': '2010-04-23', 'crossmarkmajorversiondate': '2010-04-23', 'elsevierwebpdfspecifications': '7.0', 'moddate': '2021-09-07T18:54:41+05:30', 'doi': '10.1016/j.procs.2021.07.062', 'robots': 'noindex', 'source': 'Breast_cancer_prediction_research_paper.pdf', 'total_pages': 6, 'page': 3, 'page_label': '490'}, page_content='490 Mohammed Amine Naji  et al. / Procedia Computer Science 191 (2021) 487–492\\n4 Naji Mohammed Amine/ Procedia Computer Science 00 (2021) 000–000 \\n• Logistic regression is a very powerful modeling tool, is a general ization of linear regression [11 ]. Logistic \\nRegression is used to assess the likelihood of a disease or health condition as a function of a risk factor (and \\ncovariates). Both simple and multiple logistic regression , assess the association between independent \\nvariable(s) (Xi) -- sometimes called exposure or predictor variables — and a dichotomous dependent variable \\n(Y) -- sometimes called the outcome or response variable. It is used primarily for predicting binary or \\nmulticlass dependent variables. \\n• Decision Tree C4.5 is a predictive modeling tool that can be applied across many areas. It can be constructed \\nby an algorithmic approach that can split the dataset in different ways based on different conditions [12]. \\n3.2. Dataset acquisition \\n     In our study, we use Breast Cancer Wisconsin Diagno stic dataset from University of Wisconsin Hospitals \\nMadison Breast Cancer Database [13]. The features of dataset are computed from a digitized image of a breast \\ncancer sample obtained from fine -needle aspirate (FNA).  The characteristics of the cell nuclei present in the image \\nare determined from these features. Breast Cancer Wisconsin Diagnostic has 569 instances (Benign: 357 Malignant: \\n212), 2 classes (62.74% benign and 37.26% malignant), and 11 integer -valued attributes (-Id -Diagnosis -Radius -\\nTexture -Area -Perimeter -Smoothness -Compactness -Concavity -Concave points -Symmetry -Fractal dimension). \\n \\n                                                       Fig. 2. WISCONSIN BREAST CANCER DIAGNOSTIC DATASETS. \\n3.3. Experiment Environment  \\nAll experiments on the machine learning algorithms described during this paper were conducted using Scikit -\\nlearn library and Python programming language . Scikit-learn also known as sklearn  is a free software machine \\nlearning library for the Python programming language.  [14] It features various classification, regression and \\nclustering algorithms including support vector machines, random forests, gradient boosting, k -means and DBSCAN, \\nand is designed to interoperate with the Python numerical and scientific libraries NumPy and SciPy. \\n4. Results And Discussion \\n    After applying Machine Learning Algorithms on Breast Cancer Wisconsin Diagnostic dataset.We used Confusion \\nMatrix, Accuracy, Precision, Sensitivity, F1 Score, AUC  as performance metrics to evaluate and compare the \\nmodels and identify the best algortihm for the brest cancer Prediction. Confusion Matrix is the way to measure the \\nperformance of a classification problem where the output can be of two or more type of classes. A confusion matrix \\nis a table with two dimensions vi z. “Actual” and “Predicted” and furthermore, both the dimensions have “True \\nPositives (TP)”, “True Negatives (TN)”, “False Positives (FP)”, and “False Negatives (FN)”. Accuracy is most \\ncommon performance metric for classification algorithms. It defined as the number of correct predictions made as a \\nratio of all predictions made.  Precision, used in document retrievals, may be defined as the number of correct \\ndocuments returned by our ML model. Sensitivity may be defined as the number of positives returned by  your ML \\nmodel. F1 score gives us the harmonic mean of precision and Sensitivity. Mathematically, F1 score is the weighted'),\n",
       " Document(metadata={'producer': 'Adobe PDF Library 15.0', 'creator': 'PyPDF', 'creationdate': '2021-09-04T13:45:22+05:30', 'authoritativedomain[1]': 'sciencedirect.com', 'authoritativedomain[2]': 'elsevier.com', 'crossmarkdomains[1]': 'sciencedirect.com', 'crossmarkdomains[2]': 'elsevier.com', 'crossmarkdomainexclusive': '2010-04-23', 'crossmarkmajorversiondate': '2010-04-23', 'elsevierwebpdfspecifications': '7.0', 'moddate': '2021-09-07T18:54:41+05:30', 'doi': '10.1016/j.procs.2021.07.062', 'robots': 'noindex', 'source': 'Breast_cancer_prediction_research_paper.pdf', 'total_pages': 6, 'page': 4, 'page_label': '491'}, page_content='Mohammed Amine Naji  et al. / Procedia Computer Science 191 (2021) 487–492 491 Naji Mohammed Amine/ Procedia Computer Science 00 (2021) 000–000  5 \\naverage of the precision and Sensitivity. \\nTable 1 and figure 2 show the accuracy percentage for Wincson Breast Cancer Diagnostic datasets. From the results \\nof training set and testing set we can see that all the classifiers have varying accuracies but SVM always has higher \\naccuracy testing set (97.2%) than the other classifiers. \\n  Table 1. Accuracy percentage for breast cancer diagnostic dataset. \\n \\n                                                                                                                                        Fig. 3. Comparative graph of different classifiers \\n \\nSince confusion matrices are a useful way to assess the classifier, each row in Table 2 represents the rates in an \\nactual class while each column displays the predictions. Table 3 present the calculated performance measures of \\nclassification models  based o n confusion matrix results , precision sensitivity f1 score for benign and malignant . \\nclass. \\n                                                                                               \\nTable 3. Classifiers performances      \\n                                                                                               \\n  Table 2  Confusion matrix shows that Support Vector Machine predicts correctly 556 cases out  of 569 cases \\nconstituted of 201 malignant cases that are actually malignant and 356 benign cases that are actually benign, and 11 \\ncases in correctly predicted including 11  cases of malignant class predicted as benign and 1 case of benign class \\npredicted as malignant. That is why the accuracy of Support Vector Machine is b etter than other classification \\ntechniques. From the results  of table  we can see that the percentage s of precision 0.98%, sensitivity  0.94%, F-\\nMeasure 0.96% of SVM is higher than that of other classifiers. SVM always outperforms than the other classifiers in \\nperformance for two class malignant and benign in Breast Cancer Wisconsin Diagnostic dataset cancer. \\nThe ROC curves of each machine learning a lgorithms are presented on Fig.4. ROC curve is an important metric  for \\nthe performance of classifiers. The area under ROC curve (AUC) is computed. The area is bigger, the performance \\nof the classifier is better. The Support Vector Machine has the highest AUC score 0.96% while the AUC score of \\nDecison tree 0.94% is the lowest as shown in table 4. \\nAlgorithms  Accuracy Training Set \\n(%) \\nAccuracy Testing \\nSet (%) \\nSVM 98.4% 97.2% \\nRadom \\nForest \\n99.8% 96.5% \\nLogistic \\nRegression \\n95.5% 95.8% \\nDecision \\nTree \\n98.8% 95.1% \\nK-NN 94.6% 93.7% \\nAlgorithms Precision Sensit\\nivity \\nF-Measure Class \\nSVM 0.98 0.94 0.96 Benign \\n 0.97 0.99 0.98 Malignant \\nRandom   \\nForests \\n0.96      0.94     0.95         Benign \\n 0.97     0.98       0.97         Malignant \\nLogistic \\nRegression \\n0.98  0.91      0.94         Benign \\n 0.95     0.99      0.97         Malignant \\nDecision \\nTree \\n0.94       0.92       0.93         Benign \\n 0.96       0.97       0.96       Malignant \\nK-NN 0.92     0.91       0.91         Benign \\n 0.95   0.96    0.95         Malignant \\n     \\n  Table 2. Confusion Matrix. \\n Malignant Benign  \\n   SVM 201 11 Malignant \\n 1 356 Benign \\nRandom Forest 196 16 Malignant \\n 7 350 Benign \\nLogistic Regression 201 11 Malignant \\n 5 352 Benign \\nC4.5 195 17 Malignant \\n 22 335 Benign \\nKNN 201 11 Malignant \\n 7 350 Benign'),\n",
       " Document(metadata={'producer': 'Adobe PDF Library 15.0', 'creator': 'PyPDF', 'creationdate': '2021-09-04T13:45:22+05:30', 'authoritativedomain[1]': 'sciencedirect.com', 'authoritativedomain[2]': 'elsevier.com', 'crossmarkdomains[1]': 'sciencedirect.com', 'crossmarkdomains[2]': 'elsevier.com', 'crossmarkdomainexclusive': '2010-04-23', 'crossmarkmajorversiondate': '2010-04-23', 'elsevierwebpdfspecifications': '7.0', 'moddate': '2021-09-07T18:54:41+05:30', 'doi': '10.1016/j.procs.2021.07.062', 'robots': 'noindex', 'source': 'Breast_cancer_prediction_research_paper.pdf', 'total_pages': 6, 'page': 5, 'page_label': '492'}, page_content='492 Mohammed Amine Naji  et al. / Procedia Computer Science 191 (2021) 487–492\\n6 Naji Mohammed Amine/ Procedia Computer Science 00 (2021) 000–000 \\n \\n              Table 4. The Area under roc curve (AUC). \\nAlgorithms AUC (%) \\nSVM 0.966 \\nRandom Forests 0.960 \\nLogistic Regression 0.947 \\nDecision Tree 0.945 \\nK-NN 0.952 \\n \\n \\n                                                                                                                                                                               \\n                                                                                                                                                                                                                                                                                       \\nFig. 4. ROC curve                                                                                                                                                                                                                                                                                                                                                          \\n5. Conclusion                                                                                                            \\n \\n      On the Wisconsin Breast Cancer  Diagnostic dataset (WBCD) we applied five main algorithms which are: SVM, \\nRandom Forests, Logistic Regression, Decision Tree, K -NN, calculate, compare and evaluate different  results \\nobtained based on confusion matrix, accuracy, sensitivity, precision, AUC to identify the best mac hine learning \\nalgorithm that are precise, reliable and find the higher accuracy. All algorithms have been programmed in Python \\nusing scikit-learn library in Anaconda environment. After an accurate comparison between our models, we found \\nthat Support Vector Machine achieved a higher efficiency of 97.2%, Precision of 97.5%, AUC of 96.6% and \\noutperforms all other algorithms. In conclusion, Support Vector Machine has demonstrated its efficiency in Breast \\nCancer prediction and diagnosis and achieves the best per formance in terms of accuracy and precision . It should be \\nnoted that all the results obtained are related just to the WBCD database, it can be considered as a limitation of our \\nwork, it is therefore necessary to reflect for future works to apply these same  algorithms and methods on other \\ndatabases to confirm the results obtained via this database,  as well as, in our future works, we plan to apply our and \\nother machine learning algorithms using new parameter s on larger data sets with more disease classes to obtain \\nhigher accuracy. \\nReferences \\n[1] ‘WHO | Breast cancer’, WHO. http://www.who.int/cancer/prevention/diagnosis-screening/breast-cancer/en/ (accessed Feb. 18, 2020). \\n[2] Datafloq - Top 10 Data Mining Algorithms, Demystified. https://datafloq.com/read/top -10-data-mining-algorithmsdemystified/1144. \\nAccessed December 29, 2015. \\n[3] S. Nayak and D. Gope, \"Comparison of supervised learning algorithms for RF -based breast cancer detection,\" 2017 Computing and \\nElectromagnetics International Workshop (CEM), Barcelona, 2017, pp. \\n[4] B.M. Gayathri and C. P. Sumathi, \"Comparative study of relevance vector machine with various machine learning techniques used  for \\ndetecting breast cancer,\" 2016 IEEE International Conference on Computational Intelligence and Comput ing Research (ICCIC), Chennai, \\n2016, pp. 1-5. \\n[5] H. Asri, H. Mousannif, H. A. Moatassime, and T. Noel, ‘Using Machine Learning Algorithms for Breast Cancer Risk Prediction and       \\n      Diagnosis’, Procedia Computer Science, vol. 83, pp. 1064–1069, 2016, doi: 10.1016/j.procs.2016.04.224. \\n[6] Y. khoudfi and M. Bahaj , Applying Best Machine Learning Algorithms for Breast Cancer Prediction and Classification, 978 -1-5386- 4225-\\n2/18/$31.00 ©2018 IEEE. \\n[7]  L. Latchoumi, T. P., & Parthiban, “Abnormality detecti on using weighed particle swarm optimization and smooth support vector machine,” \\nBiomed. Res., vol. 28, no. 11, pp. 4749–4751, 2017. \\n[8] A. H. Osman, “An Enhanced Breast Cancer Diagnosis Scheme based on Two -Step-SVM Technique,” Int. J. Adv. Comput. Sci. Appl., vol. 8, \\nno. 4, pp. 158–165, 2017. \\n[9] Noble WS. What is a support vector machine? Nat Biotechnol. 2006;24(12):1565-1567. doi:10.1038/nbt1206-1565. \\n[10] Larose DT. Discovering Knowledge in Data. Hoboken, NJ, USA: John Wiley & Sons, Inc.; 2004. \\n[11] Hastie T, Tibshirani R, Friedman J. The elements of statistical learning. New York, NY: Springer-Verlag;2001. \\n[12] Quinlan JR. C4.5: Programs for Machine Learning.; 2014:302. https://books.google.com/books?hl=fr&lr=&id=b3ujBQAAQBAJ&pgis=1.  \\n[13] “UCI Machine Learning Repository: Breast Cancer Wisconsin (Diagnostic) Data Set.”  \\n[14] Fabian Pedregosa and all (2011). \"Scikit-learn: Machine Learning in Python\". Journal of Machine Learning Research. 12: 2825–2830.')]"
      ]
     },
     "execution_count": 2,
     "metadata": {},
     "output_type": "execute_result"
    }
   ],
   "source": [
    "from langchain_community.document_loaders import PyPDFLoader\n",
    "loader = PyPDFLoader('Breast_cancer_prediction_research_paper.pdf')\n",
    "docs = loader.load()\n",
    "docs"
   ]
  },
  {
   "cell_type": "code",
   "execution_count": 3,
   "metadata": {},
   "outputs": [],
   "source": [
    "from langchain.text_splitter import RecursiveCharacterTextSplitter\n",
    "text_splitter = RecursiveCharacterTextSplitter(chunk_size=500, chunk_overlap=200)\n",
    "text_docs = text_splitter.split_documents(docs)"
   ]
  },
  {
   "cell_type": "code",
   "execution_count": 4,
   "metadata": {},
   "outputs": [],
   "source": [
    "from langchain_huggingface import HuggingFaceEmbeddings\n",
    "from langchain_community.vectorstores import FAISS\n",
    "embedding = HuggingFaceEmbeddings(model_name=\"sentence-transformers/all-MiniLM-L6-v2\")\n",
    "vectorstore = FAISS.from_documents(text_docs, embedding)"
   ]
  },
  {
   "cell_type": "code",
   "execution_count": 12,
   "metadata": {},
   "outputs": [],
   "source": [
    "retriever = vectorstore.as_retriever(\n",
    "    search_type=\"similarity\",\n",
    "    search_kwargs={\"k\": 15}\n",
    ")"
   ]
  },
  {
   "cell_type": "code",
   "execution_count": 13,
   "metadata": {},
   "outputs": [],
   "source": [
    "from langchain_community.llms import Ollama\n",
    "llm = Ollama(model=\"llama3.2\", temperature=0.2)"
   ]
  },
  {
   "cell_type": "code",
   "execution_count": 14,
   "metadata": {},
   "outputs": [],
   "source": [
    "from langchain_core.prompts import ChatPromptTemplate\n",
    "system_prompt = (\n",
    "    \"You are a helpful assistant answering questions using the provided context. \"\n",
    "    \"If the answer is not contained in the context, respond with \\\"I don't know.\\\" \"\n",
    "    \"Keep answers concise, max three sentences.\\n\\n\"\n",
    "    \"{context}\"\n",
    ")\n",
    "\n",
    "prompt = ChatPromptTemplate.from_messages(\n",
    "    [\n",
    "        (\"system\", system_prompt),\n",
    "        (\"human\", \"{input}\"),\n",
    "    ]\n",
    ")"
   ]
  },
  {
   "cell_type": "code",
   "execution_count": 15,
   "metadata": {},
   "outputs": [],
   "source": [
    "from langchain.chains import create_retrieval_chain\n",
    "from langchain.chains.combine_documents import create_stuff_documents_chain\n",
    "question_answer_chain = create_stuff_documents_chain(llm, prompt)\n",
    "rag_chain = create_retrieval_chain(retriever, question_answer_chain)\n"
   ]
  },
  {
   "cell_type": "code",
   "execution_count": 14,
   "metadata": {},
   "outputs": [
    {
     "name": "stdout",
     "output_type": "stream",
     "text": [
      "The authors of this research paper are:\n",
      "\n",
      "1. Mohammed Amine Naji\n",
      "2. Sanaa El Filali\n",
      "3. Kawtar Aarika\n",
      "4. EL Habib Benlahmard\n",
      "5. Rachida Ait Abdelouhahide\n",
      "6. Olivier Debauchef\n"
     ]
    }
   ],
   "source": [
    "response = rag_chain.invoke({\"input\": \"who all are the authors of this research paper?\"})\n",
    "print(response[\"answer\"])"
   ]
  },
  {
   "cell_type": "code",
   "execution_count": 15,
   "metadata": {},
   "outputs": [
    {
     "name": "stdout",
     "output_type": "stream",
     "text": [
      "The Breast Cancer Wisconsin Diagnostic dataset contains 569 instances (357 Benign and 212 Malignant).\n"
     ]
    }
   ],
   "source": [
    "response = rag_chain.invoke({\"input\": \"How many breast cancer cases were in the dataset?\"})\n",
    "print(response[\"answer\"])"
   ]
  },
  {
   "cell_type": "code",
   "execution_count": 16,
   "metadata": {},
   "outputs": [
    {
     "name": "stdout",
     "output_type": "stream",
     "text": [
      "The document discusses the use of machine learning algorithms in predicting breast cancer diagnosis. The authors evaluate the performance of several classifiers, including k-NN, SVM, Random Forest, Logistic regression, and C4.5, using accuracy, precision, sensitivity, and F1 score as metrics. They report that the SVM algorithm achieved the highest accuracy (99.10%) in predicting breast cancer diagnosis.\n"
     ]
    }
   ],
   "source": [
    "response = rag_chain.invoke({\"input\": \"summarize the document?\"})\n",
    "print(response[\"answer\"])"
   ]
  }
 ],
 "metadata": {
  "kernelspec": {
   "display_name": "Python 3 (ipykernel)",
   "language": "python",
   "name": "python3"
  },
  "language_info": {
   "codemirror_mode": {
    "name": "ipython",
    "version": 3
   },
   "file_extension": ".py",
   "mimetype": "text/x-python",
   "name": "python",
   "nbconvert_exporter": "python",
   "pygments_lexer": "ipython3",
   "version": "3.13.1"
  }
 },
 "nbformat": 4,
 "nbformat_minor": 4
}
